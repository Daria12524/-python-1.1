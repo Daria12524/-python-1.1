{
  "nbformat": 4,
  "nbformat_minor": 0,
  "metadata": {
    "colab": {
      "provenance": [],
      "authorship_tag": "ABX9TyMKUZepkoVlg5GLP4jpXCCX",
      "include_colab_link": true
    },
    "kernelspec": {
      "name": "python3",
      "display_name": "Python 3"
    },
    "language_info": {
      "name": "python"
    }
  },
  "cells": [
    {
      "cell_type": "markdown",
      "metadata": {
        "id": "view-in-github",
        "colab_type": "text"
      },
      "source": [
        "<a href=\"https://colab.research.google.com/github/Daria12524/-python-1.1/blob/main/ColabZhes.ipynb\" target=\"_parent\"><img src=\"https://colab.research.google.com/assets/colab-badge.svg\" alt=\"Open In Colab\"/></a>"
      ]
    },
    {
      "cell_type": "code",
      "source": [
        "# @title\n",
        "class Zhes:\n",
        "    def __init__(self, district=\"Центральный\", number=15, residents_count=52650,\n",
        "                 monthly_payment=2500.0, paid_residents=4800):\n",
        "        self._validate_data(district, number, residents_count, monthly_payment, paid_residents)\n",
        "\n",
        "        self.district = district\n",
        "        self.number = number\n",
        "        self.residents_count = residents_count\n",
        "        self.monthly_payment = monthly_payment\n",
        "        self.paid_residents = paid_residents\n",
        "\n",
        "    def _has_max_digits(self, num, max_digits):\n",
        "        if num == 0:\n",
        "            return max_digits >= 1\n",
        "        digits = 0\n",
        "        temp = num\n",
        "        while temp != 0:\n",
        "            digits += 1\n",
        "            temp //= 10\n",
        "        return digits <= max_digits\n",
        "\n",
        "    def _validate_data(self, district, number, residents_count, monthly_payment, paid_residents):\n",
        "        if not district or not district.strip():\n",
        "            raise ValueError(\"Ошибка: район не может быть пустым\")\n",
        "\n",
        "        if number <= 0:\n",
        "            raise ValueError(\"Ошибка: номер ЖЭС должен быть положительным числом\")\n",
        "        if not self._has_max_digits(number, 11):\n",
        "            raise ValueError(\"Ошибка: номер ЖЭС не может содержать более 11 цифр\")\n",
        "\n",
        "        if residents_count <= 0:\n",
        "            raise ValueError(\"Ошибка: число жильцов должно быть положительным\")\n",
        "        if residents_count > 100000:\n",
        "            raise ValueError(\"Ошибка: число жильцов не может превышать 100000\")\n",
        "\n",
        "        if monthly_payment < 0:\n",
        "            raise ValueError(\"Ошибка: оплата не может быть отрицательной\")\n",
        "        if monthly_payment > 100000:\n",
        "            raise ValueError(\"Ошибка: оплата не может превышать 100000 руб.\")\n",
        "\n",
        "        if paid_residents < 0:\n",
        "            raise ValueError(\"Ошибка: число оплативших не может быть отрицательным\")\n",
        "        if paid_residents > residents_count:\n",
        "            raise ValueError(f\"Ошибка: число оплативших не может превышать общее число жильцов ({residents_count})\")\n",
        "\n",
        "    def calculate_total_debt(self):\n",
        "        debtors = self.residents_count - self.paid_residents\n",
        "        return debtors * self.monthly_payment\n",
        "\n",
        "    def get_payment_percentage(self):\n",
        "        if self.residents_count == 0:\n",
        "            return 0.0\n",
        "        return (self.paid_residents / self.residents_count) * 100.0\n",
        "\n",
        "    def display_info(self):\n",
        "        print(\"========================================\")\n",
        "        print(\"          ИНФОРМАЦИЯ О ЖЭС\")\n",
        "        print(\"========================================\")\n",
        "        print(f\"Район:            {self.district}\")\n",
        "        print(f\"Номер ЖЭС:        {self.number}\")\n",
        "        print(f\"Число жильцов:    {self.residents_count}\")\n",
        "        print(f\"Оплата за месяц:  {self.monthly_payment:.2f} руб.\")\n",
        "        print(f\"Оплатили:         {self.paid_residents} жильцов\")\n",
        "        print(f\"Задолженность:    {self.calculate_total_debt():.2f} руб.\")\n",
        "        print(f\"Процент оплаты:   {self.get_payment_percentage():.1f}%\")\n",
        "        print(\"========================================\")\n",
        "\n",
        "\n",
        "try:\n",
        "    print(\" ПРОГРАММА УЧЕТА ЖИЛИЩНО-ЭКСПЛУАТАЦИОННЫХ СЛУЖБ :)\")\n",
        "    print(\"\\n================ ДАННЫЕ =================\")\n",
        "\n",
        "    zhes1 = Zhes()\n",
        "    print(\"ЖЭС 1\")\n",
        "    zhes1.display_info()\n",
        "\n",
        "    print(\"\\n=== РАСЧЕТЫ ПО ЖЭС ===\")\n",
        "    print(f\"Задолженность ЖЭС 1: {zhes1.calculate_total_debt():.2f} руб.\")\n",
        "    print(f\"Процент оплаты ЖЭС 1: {zhes1.get_payment_percentage():.1f}%\")\n",
        "    print(\"=================================================\")\n",
        "    print(\" РАБОТА ПРОГРАММЫ ЗАВЕРШЕНА :)\")\n",
        "\n",
        "except ValueError as e:\n",
        "    print(f\"ОШИБКА: {e}\")"
      ],
      "metadata": {
        "colab": {
          "base_uri": "https://localhost:8080/"
        },
        "id": "jcVkTFpl6yV6",
        "outputId": "528ab3f8-2907-484a-9c2a-1282bc0deb36"
      },
      "execution_count": 12,
      "outputs": [
        {
          "output_type": "stream",
          "name": "stdout",
          "text": [
            " ПРОГРАММА УЧЕТА ЖИЛИЩНО-ЭКСПЛУАТАЦИОННЫХ СЛУЖБ :)\n",
            "\n",
            "================ ДАННЫЕ =================\n",
            "ОШИБКА: Ошибка: число жильцов должно быть положительным\n"
          ]
        }
      ]
    }
  ]
}