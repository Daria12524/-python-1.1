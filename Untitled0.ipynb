# @title
class Zhes:
    def __init__(self, district="Центральный", number=15, residents_count=52650, 
                 monthly_payment=2500.0, paid_residents=4800):
        self._validate_data(district, number, residents_count, monthly_payment, paid_residents)
        
        self.district = district
        self.number = number
        self.residents_count = residents_count
        self.monthly_payment = monthly_payment
        self.paid_residents = paid_residents

    def _has_max_digits(self, num, max_digits):
        if num == 0:
            return max_digits >= 1
        digits = 0
        temp = num
        while temp != 0:
            digits += 1
            temp //= 10
        return digits <= max_digits

    def _validate_data(self, district, number, residents_count, monthly_payment, paid_residents):
        if not district or not district.strip():
            raise ValueError("Ошибка: район не может быть пустым")

        if number <= 0:
            raise ValueError("Ошибка: номер ЖЭС должен быть положительным числом")
        if not self._has_max_digits(number, 11):
            raise ValueError("Ошибка: номер ЖЭС не может содержать более 11 цифр")

        if residents_count <= 0:
            raise ValueError("Ошибка: число жильцов должно быть положительным")
        if residents_count > 100000:
            raise ValueError("Ошибка: число жильцов не может превышать 100000")

        if monthly_payment < 0:
            raise ValueError("Ошибка: оплата не может быть отрицательной")
        if monthly_payment > 100000:
            raise ValueError("Ошибка: оплата не может превышать 100000 руб.")

        if paid_residents < 0:
            raise ValueError("Ошибка: число оплативших не может быть отрицательным")
        if paid_residents > residents_count:
            raise ValueError(f"Ошибка: число оплативших не может превышать общее число жильцов ({residents_count})")

    def calculate_total_debt(self):
        debtors = self.residents_count - self.paid_residents
        return debtors * self.monthly_payment

    def get_payment_percentage(self):
        if self.residents_count == 0:
            return 0.0
        return (self.paid_residents / self.residents_count) * 100.0

    def display_info(self):
        print("========================================")
        print("          ИНФОРМАЦИЯ О ЖЭС")
        print("========================================")
        print(f"Район:            {self.district}")
        print(f"Номер ЖЭС:        {self.number}")
        print(f"Число жильцов:    {self.residents_count}")
        print(f"Оплата за месяц:  {self.monthly_payment:.2f} руб.")
        print(f"Оплатили:         {self.paid_residents} жильцов")
        print(f"Задолженность:    {self.calculate_total_debt():.2f} руб.")
        print(f"Процент оплаты:   {self.get_payment_percentage():.1f}%")
        print("========================================")


try:
    print(" ПРОГРАММА УЧЕТА ЖИЛИЩНО-ЭКСПЛУАТАЦИОННЫХ СЛУЖБ :)")
    print("\n================ ДАННЫЕ =================")

    zhes1 = Zhes()
    print("ЖЭС 1")
    zhes1.display_info()

    print("\n=== РАСЧЕТЫ ПО ЖЭС ===")
    print(f"Задолженность ЖЭС 1: {zhes1.calculate_total_debt():.2f} руб.")
    print(f"Процент оплаты ЖЭС 1: {zhes1.get_payment_percentage():.1f}%")
    print("=================================================")
    print(" РАБОТА ПРОГРАММЫ ЗАВЕРШЕНА :)")

except ValueError as e:
    print(f"ОШИБКА: {e}")
